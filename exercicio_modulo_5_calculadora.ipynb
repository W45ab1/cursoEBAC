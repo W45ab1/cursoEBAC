{
  "nbformat": 4,
  "nbformat_minor": 0,
  "metadata": {
    "colab": {
      "provenance": []
    },
    "kernelspec": {
      "name": "python3",
      "display_name": "Python 3"
    },
    "language_info": {
      "name": "python"
    }
  },
  "cells": [
    {
      "cell_type": "markdown",
      "source": [
        "#Documentação\n"
      ],
      "metadata": {
        "id": "o4yZeXna2jGq"
      }
    },
    {
      "cell_type": "code",
      "source": [
        "print(\"Como utilizar a calculadora\")\n",
        "print(\"Insira os inputs solicitados, eles seguirão a ordem de: \\n numero1 (operador1) numero2 (operador2)... onde os operadores são o nome do cálculo a ser realizado. \\n Para ver o resultado final digite 'calcule' \")\n",
        "print(\"OBS: Os cáculos serão realizados na ordem em que forem inseridos, ou seja, não há prioridade de operações. \\n exemplo: 2+3*4 será 20 (2+3=5, 5*4=20) e não 14 (3*4=12, 12+2=14)\")\n",
        "\n",
        "numero1 = input(\"Digite o primeiro número: \") #define o primeiro número do cálculo que será realizado\n",
        "numero1 = float(numero1) #converte o primeiro número do cálculo para inteiro\n",
        "operador1 = input(\"Qual a operação que deseja realizar? \\n digite uma das seguintes opções (mais, menos, vezes, dividido, elevado): \") #define qual cálculo será realizado de acordo com input de texto do usuário\n",
        "operador2 = \"\" #cria a variável operador2 para entrar no while\n",
        "# o operador2 define se o usuário deseja continuar com mais cálculos adicionando outro operador, ou se deseja calcular com os dados já fornecidos\n",
        "\n",
        "\n",
        "while operador2 != \"calcule\":\n",
        "  numero2 = input(\"Digite o próximo número: \")\n",
        "\n",
        "  #estrutura if define qual cálculo será realizado de acordo com o input do operador\n",
        "  if operador1 == \"mais\":\n",
        "    numero1 += float(numero2)\n",
        "  elif operador1 == \"menos\":\n",
        "    numero1 -= float(numero2)\n",
        "  elif operador1 == \"vezes\":\n",
        "    numero1 *= float(numero2)\n",
        "  elif operador1 == \"dividido\":\n",
        "    numero1 /= float(numero2)\n",
        "  elif operador1 == \"elevado\":\n",
        "    numero1 **= float(numero2)\n",
        "\n",
        "  resultado = numero1 #define a variável de resultado a ser mostrada caso o usuário inpute 'calcule' no operador2\n",
        "\n",
        "  operador2 = input(\"Qual a operação que deseja realizar? \\n digite uma das seguintes opções (mais, menos, vezes, dividido, elevado,calcule): \") #define operador2\n",
        "  operador1 = operador2 #modifica operador1 para retornar ao while caso necessário\n",
        "\n",
        "else:\n",
        "  print(\"o resultado da sua operação é: \", resultado) #print do resultado dos cálculos"
      ],
      "metadata": {
        "colab": {
          "base_uri": "https://localhost:8080/"
        },
        "id": "5OqKOElQY08P",
        "outputId": "c535da26-a2bd-40d6-b380-ca4a500f70b5"
      },
      "execution_count": null,
      "outputs": [
        {
          "output_type": "stream",
          "name": "stdout",
          "text": [
            "Como utilizar a calculadora\n",
            "Insira os inputs solicitados, eles seguirão a ordem de: \n",
            " numero1 (operador1) numero2 (operador2)... onde os operadores são o nome do cálculo a ser realizado. \n",
            " Para ver o resultado final digite 'calcule' \n",
            "OBS: Os cáculos serão realizados na ordem em que forem inseridos, ou seja, não há prioridade de operações. \n",
            " exemplo: 2+3*4 será 24 (2+3=6, 6*4=24) e não 14 (3*4=12, 12+2=14)\n",
            "Digite o primeiro número: 2\n",
            "Qual a operação que deseja realizar? \n",
            " digite uma das seguintes opções (mais, menos, vezes, dividido, elevado): mais\n",
            "Digite o próximo número: 3\n",
            "Qual a operação que deseja realizar? \n",
            " digite uma das seguintes opções (mais, menos, vezes, dividido, elevado,calcule): vezes\n",
            "Digite o próximo número: 4\n",
            "Qual a operação que deseja realizar? \n",
            " digite uma das seguintes opções (mais, menos, vezes, dividido, elevado,calcule): calcule\n",
            "o resultado da sua operação é:  20.0\n"
          ]
        }
      ]
    }
  ]
}